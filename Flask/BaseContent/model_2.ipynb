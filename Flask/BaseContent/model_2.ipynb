{
 "cells": [
  {
   "cell_type": "code",
   "execution_count": null,
   "metadata": {},
   "outputs": [],
   "source": []
  }
 ],
 "metadata": {
  "kernelspec": {
   "display_name": "Python 3.11.0 ('.env': venv)",
   "language": "python",
   "name": "python3"
  },
  "language_info": {
   "name": "python",
   "version": "3.11.0"
  },
  "orig_nbformat": 4,
  "vscode": {
   "interpreter": {
    "hash": "ea52f0f6b1e9b734d3cd0e188ca5984c56df8f37a44c22b2275656db7cfffc8c"
   }
  }
 },
 "nbformat": 4,
 "nbformat_minor": 2
}
