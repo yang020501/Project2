{
 "cells": [
  {
   "cell_type": "code",
   "execution_count": 43,
   "metadata": {},
   "outputs": [
    {
     "name": "stdout",
     "output_type": "stream",
     "text": [
      "Number of users:      user_id  age sex     occupation zip_code\n",
      "0          1   24   M     technician    85711\n",
      "1          2   53   F          other    94043\n",
      "2          3   23   M         writer    32067\n",
      "3          4   24   M     technician    43537\n",
      "4          5   33   F          other    15213\n",
      "..       ...  ...  ..            ...      ...\n",
      "938      939   26   F        student    33319\n",
      "939      940   32   M  administrator    02215\n",
      "940      941   20   M        student    97229\n",
      "941      942   48   F      librarian    78209\n",
      "942      943   22   M        student    77841\n",
      "\n",
      "[943 rows x 5 columns]\n"
     ]
    }
   ],
   "source": [
    "import pandas as pd \n",
    "#Reading user file:\n",
    "u_cols =  ['user_id', 'age', 'sex', 'occupation', 'zip_code']\n",
    "users = pd.read_csv('ml-100k/u.user', sep='|', names=u_cols,\n",
    " encoding='latin-1')\n",
    "\n",
    "n_users = users.shape[0]\n",
    "print('Number of users:', users)"
   ]
  },
  {
   "cell_type": "code",
   "execution_count": 53,
   "metadata": {},
   "outputs": [
    {
     "name": "stdout",
     "output_type": "stream",
     "text": [
      "      user_id  movie_id  rating  unix_timestamp\n",
      "0           1        20       4       887431883\n",
      "1           1        33       4       878542699\n",
      "2           1        61       4       878542420\n",
      "3           1       117       3       874965739\n",
      "4           1       155       2       878542201\n",
      "...       ...       ...     ...             ...\n",
      "9425      943       232       4       888639867\n",
      "9426      943       356       4       888639598\n",
      "9427      943       570       1       888640125\n",
      "9428      943       808       4       888639868\n",
      "9429      943      1067       2       875501756\n",
      "\n",
      "[9430 rows x 4 columns]\n"
     ]
    }
   ],
   "source": [
    "r_cols = ['user_id', 'movie_id', 'rating', 'unix_timestamp']\n",
    "\n",
    "ratings_base = pd.read_csv('ml-100k/ua.base', sep='\\t', names=r_cols, encoding='latin-1')\n",
    "ratings_test = pd.read_csv('ml-100k/ua.test', sep='\\t', names=r_cols, encoding='latin-1')\n",
    "\n",
    "rating_test = ratings_test.drop(columns = \"rating\") \n",
    "rate_train = ratings_base.values\n",
    "rate_test = ratings_test.values\n",
    "\n",
    "print(ratings_test)\n"
   ]
  },
  {
   "cell_type": "code",
   "execution_count": 52,
   "metadata": {},
   "outputs": [
    {
     "name": "stdout",
     "output_type": "stream",
     "text": [
      "Number of items:       movie id                                movie title release date  \\\n",
      "0            1                           Toy Story (1995)  01-Jan-1995   \n",
      "1            2                           GoldenEye (1995)  01-Jan-1995   \n",
      "2            3                          Four Rooms (1995)  01-Jan-1995   \n",
      "3            4                          Get Shorty (1995)  01-Jan-1995   \n",
      "4            5                             Copycat (1995)  01-Jan-1995   \n",
      "...        ...                                        ...          ...   \n",
      "1677      1678                          Mat' i syn (1997)  06-Feb-1998   \n",
      "1678      1679                           B. Monkey (1998)  06-Feb-1998   \n",
      "1679      1680                       Sliding Doors (1998)  01-Jan-1998   \n",
      "1680      1681                        You So Crazy (1994)  01-Jan-1994   \n",
      "1681      1682  Scream of Stone (Schrei aus Stein) (1991)  08-Mar-1996   \n",
      "\n",
      "      video release date                                           IMDb URL  \\\n",
      "0                    NaN  http://us.imdb.com/M/title-exact?Toy%20Story%2...   \n",
      "1                    NaN  http://us.imdb.com/M/title-exact?GoldenEye%20(...   \n",
      "2                    NaN  http://us.imdb.com/M/title-exact?Four%20Rooms%...   \n",
      "3                    NaN  http://us.imdb.com/M/title-exact?Get%20Shorty%...   \n",
      "4                    NaN  http://us.imdb.com/M/title-exact?Copycat%20(1995)   \n",
      "...                  ...                                                ...   \n",
      "1677                 NaN  http://us.imdb.com/M/title-exact?Mat%27+i+syn+...   \n",
      "1678                 NaN  http://us.imdb.com/M/title-exact?B%2E+Monkey+(...   \n",
      "1679                 NaN      http://us.imdb.com/Title?Sliding+Doors+(1998)   \n",
      "1680                 NaN  http://us.imdb.com/M/title-exact?You%20So%20Cr...   \n",
      "1681                 NaN  http://us.imdb.com/M/title-exact?Schrei%20aus%...   \n",
      "\n",
      "      unknown  Action  Adventure  Animation  Children's  ...  Fantasy  \\\n",
      "0           0       0          0          1           1  ...        0   \n",
      "1           0       1          1          0           0  ...        0   \n",
      "2           0       0          0          0           0  ...        0   \n",
      "3           0       1          0          0           0  ...        0   \n",
      "4           0       0          0          0           0  ...        0   \n",
      "...       ...     ...        ...        ...         ...  ...      ...   \n",
      "1677        0       0          0          0           0  ...        0   \n",
      "1678        0       0          0          0           0  ...        0   \n",
      "1679        0       0          0          0           0  ...        0   \n",
      "1680        0       0          0          0           0  ...        0   \n",
      "1681        0       0          0          0           0  ...        0   \n",
      "\n",
      "      Film-Noir  Horror  Musical  Mystery  Romance  Sci-Fi  Thriller  War  \\\n",
      "0             0       0        0        0        0       0         0    0   \n",
      "1             0       0        0        0        0       0         1    0   \n",
      "2             0       0        0        0        0       0         1    0   \n",
      "3             0       0        0        0        0       0         0    0   \n",
      "4             0       0        0        0        0       0         1    0   \n",
      "...         ...     ...      ...      ...      ...     ...       ...  ...   \n",
      "1677          0       0        0        0        0       0         0    0   \n",
      "1678          0       0        0        0        1       0         1    0   \n",
      "1679          0       0        0        0        1       0         0    0   \n",
      "1680          0       0        0        0        0       0         0    0   \n",
      "1681          0       0        0        0        0       0         0    0   \n",
      "\n",
      "      Western  \n",
      "0           0  \n",
      "1           0  \n",
      "2           0  \n",
      "3           0  \n",
      "4           0  \n",
      "...       ...  \n",
      "1677        0  \n",
      "1678        0  \n",
      "1679        0  \n",
      "1680        0  \n",
      "1681        0  \n",
      "\n",
      "[1682 rows x 24 columns]\n"
     ]
    }
   ],
   "source": [
    "i_cols = ['movie id', 'movie title' ,'release date','video release date', 'IMDb URL', 'unknown', 'Action', 'Adventure',\n",
    " 'Animation', 'Children\\'s', 'Comedy', 'Crime', 'Documentary', 'Drama', 'Fantasy',\n",
    " 'Film-Noir', 'Horror', 'Musical', 'Mystery', 'Romance', 'Sci-Fi', 'Thriller', 'War', 'Western']\n",
    "\n",
    "items = pd.read_csv('ml-100k/u.item', sep='|', names=i_cols,\n",
    " encoding='latin-1')\n",
    "\n",
    "n_items = items.shape[0]\n",
    "print ('Number of items:', items)\n",
    "\n"
   ]
  },
  {
   "cell_type": "code",
   "execution_count": 46,
   "metadata": {},
   "outputs": [
    {
     "data": {
      "text/plain": [
       "(1682, 24)"
      ]
     },
     "execution_count": 46,
     "metadata": {},
     "output_type": "execute_result"
    }
   ],
   "source": [
    "X0 = items.values\n",
    "X_train_counts = X0[:, -19:]\n",
    "# print(X_train_counts)\n",
    "items.shape"
   ]
  },
  {
   "cell_type": "code",
   "execution_count": 47,
   "metadata": {},
   "outputs": [
    {
     "name": "stdout",
     "output_type": "stream",
     "text": [
      "[[0.   0.   0.   ... 0.   0.   0.  ]\n",
      " [0.   0.54 0.65 ... 0.54 0.   0.  ]\n",
      " [0.   0.   0.   ... 1.   0.   0.  ]\n",
      " ...\n",
      " [0.   0.   0.   ... 0.   0.   0.  ]\n",
      " [0.   0.   0.   ... 0.   0.   0.  ]\n",
      " [0.   0.   0.   ... 0.   0.   0.  ]]\n"
     ]
    }
   ],
   "source": [
    "#tfidf\n",
    "from sklearn.feature_extraction.text import TfidfTransformer\n",
    "transformer = TfidfTransformer(smooth_idf=True, norm ='l2')\n",
    "tfidf = transformer.fit_transform(X_train_counts.tolist()).toarray()\n",
    "print(tfidf)"
   ]
  },
  {
   "cell_type": "code",
   "execution_count": 48,
   "metadata": {},
   "outputs": [],
   "source": [
    "import numpy as np\n",
    "def get_items_rated_by_user(rate_matrix, user_id):\n",
    "  \n",
    "    \"\"\"\n",
    "    in each line of rate_matrix, we have infor: user_id, item_id, rating (scores), time_stamp\n",
    "    we care about the first three values\n",
    "    return (item_ids, scores) rated by user user_id\n",
    "    \"\"\"\n",
    "    y = rate_matrix[:,0] # all users\n",
    "    # item indices rated by user_id\n",
    "    # we need to +1 to user_id since in the rate_matrix, id starts from 1 \n",
    "    # while index in python starts from 0\n",
    "    ids = np.where(y == user_id +1)[0] \n",
    "    item_ids = rate_matrix[ids, 1] - 1 # index starts from 0 \n",
    "    scores = rate_matrix[ids, 2]\n",
    "\n",
    "    return (item_ids, scores)\n"
   ]
  },
  {
   "cell_type": "code",
   "execution_count": 49,
   "metadata": {},
   "outputs": [
    {
     "name": "stdout",
     "output_type": "stream",
     "text": [
      "<class 'numpy.int64'>\n"
     ]
    }
   ],
   "source": [
    "from sklearn.linear_model import Ridge\n",
    "from sklearn import linear_model\n",
    "\n",
    "d = tfidf.shape[1] # data dimension\n",
    "W = np.zeros((d, n_users))\n",
    "b = np.zeros((1, n_users))\n",
    "\n",
    "for n in range(n_users):    \n",
    "    ids, scores = get_items_rated_by_user(rate_train, n)\n",
    "\n",
    "    clf = Ridge(alpha=0.01, fit_intercept  = True)\n",
    "    Xhat = tfidf[ids, :]\n",
    "    clf.fit(Xhat, scores)\n",
    "\n",
    "    W[:, n] = clf.coef_\n",
    "    b[0, n] = clf.intercept_"
   ]
  },
  {
   "cell_type": "code",
   "execution_count": 50,
   "metadata": {},
   "outputs": [
    {
     "name": "stdout",
     "output_type": "stream",
     "text": [
      "[[0. 0. 0. ... 0. 0. 0.]\n",
      " [0. 0. 0. ... 0. 0. 0.]\n",
      " [0. 0. 0. ... 0. 0. 0.]\n",
      " ...\n",
      " [0. 0. 0. ... 0. 0. 0.]\n",
      " [0. 0. 0. ... 0. 0. 0.]\n",
      " [0. 0. 0. ... 0. 0. 0.]]\n"
     ]
    }
   ],
   "source": [
    "\n",
    "Yhat = tfidf.dot(W) + b\n",
    "print(Yhat)"
   ]
  },
  {
   "cell_type": "code",
   "execution_count": 51,
   "metadata": {},
   "outputs": [
    {
     "name": "stdout",
     "output_type": "stream",
     "text": [
      "Rated movies ids : [ 37 109 110 226 424 557 722 724 731 739]\n",
      "True ratings     : [3 3 4 3 4 3 5 3 3 4]\n",
      "Predicted ratings: [0. 0. 0. 0. 0. 0. 0. 0. 0. 0.]\n"
     ]
    }
   ],
   "source": [
    "n = 10\n",
    "np.set_printoptions(precision=2) # 2 digits after . \n",
    "ids, scores = get_items_rated_by_user(rate_test, n)\n",
    "# print(Yhat[n, ids])\n",
    "print('Rated movies ids :', ids )\n",
    "print('True ratings     :', scores)\n",
    "print('Predicted ratings:', Yhat[ids, n])"
   ]
  }
 ],
 "metadata": {
  "kernelspec": {
   "display_name": "Python 3.11.0 ('.env': venv)",
   "language": "python",
   "name": "python3"
  },
  "language_info": {
   "codemirror_mode": {
    "name": "ipython",
    "version": 3
   },
   "file_extension": ".py",
   "mimetype": "text/x-python",
   "name": "python",
   "nbconvert_exporter": "python",
   "pygments_lexer": "ipython3",
   "version": "3.11.0"
  },
  "orig_nbformat": 4,
  "vscode": {
   "interpreter": {
    "hash": "ea52f0f6b1e9b734d3cd0e188ca5984c56df8f37a44c22b2275656db7cfffc8c"
   }
  }
 },
 "nbformat": 4,
 "nbformat_minor": 2
}
