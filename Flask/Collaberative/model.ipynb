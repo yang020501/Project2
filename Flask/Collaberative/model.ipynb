{
 "cells": [
  {
   "cell_type": "code",

   "execution_count": 335,

   "metadata": {},
   "outputs": [],
   "source": [
    "import pandas as pd\n",
    "import numpy as np\n",
    "from sklearn.metrics.pairwise import cosine_similarity\n",
    "from scipy import sparse\n",
    "\n",
    "\n",
    "class CF(object):\n",
    "    \"\"\"docstring for CF\"\"\"\n",
    "\n",
    "    def __init__(self, Y_data, k, dist_func=cosine_similarity, uuCF=1):\n",
    "        self.uuCF = uuCF  # user-user (1) or item-item (0) CF\n",
    "        self.Y_data = Y_data if uuCF else Y_data[:, [1, 0, 2]]\n",
    "        self.k = k\n",
    "        self.dist_func = dist_func\n",
    "        self.Ybar_data = None\n",
    "        # number of users and items. Remember to add 1 since id starts from 0\n",
    "        self.n_users = int(np.max(self.Y_data[:, 0])) + 1\n",
    "        self.n_items = int(np.max(self.Y_data[:, 1])) + 1\n",
    "\n",
    "    def add(self, new_data):\n",
    "        \"\"\"\n",
    "        Update Y_data matrix when new ratings come.\n",
    "        For simplicity, suppose that there is no new user or item.\n",
    "        \"\"\"\n",
    "        self.Y_data = np.concatenate((self.Y_data, new_data), axis=0)\n",
    "\n",
    "    def normalize_Y(self):\n",
    "        users = self.Y_data[:, 0]  # all users - first col of the Y_data\n",
    "        self.Ybar_data = self.Y_data.copy()\n",
    "        self.mu = np.zeros((self.n_users,))\n",
    "        for n in range(self.n_users):\n",
    "            # row indices of rating done by user n\n",
    "            # since indices need to be integers, we need to convert\n",
    "            ids = np.where(users == n)[0].astype(np.int32)\n",
    "            # indices of all ratings associated with user n\n",
    "            item_ids = self.Y_data[ids, 1]\n",
    "            # and the corresponding ratings\n",
    "            ratings = self.Y_data[ids, 2]\n",
    "            # take mean\n",
    "            m = np.mean(ratings)\n",
    "            if np.isnan(m):\n",
    "                m = 0  # to avoid empty array and nan value\n",
    "            self.mu[n] = m\n",
    "            # normalize\n",
    "            self.Ybar_data[ids, 2] = ratings - self.mu[n]\n",
    "\n",
    "        ################################################\n",
    "        # form the rating matrix as a sparse matrix. Sparsity is important\n",
    "        # for both memory and computing efficiency. For example, if #user = 1M,\n",
    "        # #item = 100k, then shape of the rating matrix would be (100k, 1M),\n",
    "        # you may not have enough memory to store this. Then, instead, we store\n",
    "        # nonzeros only, and, of course, their locations.\n",
    "        self.Ybar = sparse.coo_matrix((self.Ybar_data[:, 2],\n",
    "                                       (self.Ybar_data[:, 1], self.Ybar_data[:, 0])), (self.n_items, self.n_users))\n",
    "        self.Ybar = self.Ybar.tocsr()\n",
    "\n",
    "    def similarity(self):\n",
    "        eps = 1e-6\n",
    "        self.S = self.dist_func(self.Ybar.T, self.Ybar.T)\n",
    "\n",
    "    def refresh(self):\n",
    "        \"\"\"\n",
    "        Normalize data and calculate similarity matrix again (after\n",
    "        some few ratings added)\n",
    "        \"\"\"\n",
    "        self.normalize_Y()\n",
    "        self.similarity()\n",
    "\n",
    "    def fit(self):\n",
    "        self.refresh()\n",
    "\n",
    "    def __pred(self, u, i, normalized=1):\n",
    "        \"\"\"\n",
    "        predict the rating of user u for item i (normalized)\n",
    "        if you need the un\n",
    "        \"\"\"\n",
    "        # Step 1: find all users who rated i\n",
    "        ids = np.where(self.Y_data[:, 1] == i)[0].astype(np.int32)\n",
    "        # Step 2:\n",
    "        users_rated_i = (self.Y_data[ids, 0]).astype(np.int32)\n",
    "        # Step 3: find similarity btw the current user and others\n",
    "        # who already rated i\n",
    "        sim = self.S[u, users_rated_i]\n",
    "        # Step 4: find the k most similarity users\n",
    "        a = np.argsort(sim)[-self.k:]\n",
    "        # and the corresponding similarity levels\n",
    "        nearest_s = sim[a]\n",
    "        # How did each of 'near' users rated item i\n",
    "        r = self.Ybar[i, users_rated_i[a]]\n",
    "        if normalized:\n",
    "            # add a small number, for instance, 1e-8, to avoid dividing by 0\n",
    "            return (r*nearest_s)[0]/(np.abs(nearest_s).sum() + 1e-8)\n",
    "\n",
    "        return (r*nearest_s)[0]/(np.abs(nearest_s).sum() + 1e-8) + self.mu[u]\n",
    "\n",
    "    def pred(self, u, i, normalized=1):\n",
    "        \"\"\"\n",
    "        predict the rating of user u for item i (normalized)\n",
    "        if you need the un\n",
    "        \"\"\"\n",
    "        if self.uuCF:\n",
    "            return self.__pred(u, i, normalized)\n",
    "        return self.__pred(i, u, normalized)\n",
    "\n",
    "    def recommend(self, u):\n",
    "        \"\"\"\n",
    "        Determine all items should be recommended for user u.\n",
    "        The decision is made based on all i such that:\n",
    "        self.pred(u, i) > 0. Suppose we are considering items which\n",
    "        have not been rated by u yet.\n",
    "        \"\"\"\n",
    "        ids = np.where(self.Y_data[:, 0] == u)[0]\n",
    "        items_rated_by_u = self.Y_data[ids, 1].tolist()\n",
    "        recommended_items = []\n",
    "        for i in range(self.n_items):\n",
    "            if i not in items_rated_by_u:\n",
    "                rating = self.__pred(u, i)\n",

    "                if rating > 3:\n",

    "                    recommended_items.append(i)\n",
    "\n",
    "        return recommended_items\n",
    "\n",
    "    def recommend2(self, u):\n",
    "        \"\"\"\n",
    "        Determine all items should be recommended for user u.\n",
    "        The decision is made based on all i such that:\n",
    "        self.pred(u, i) > 0. Suppose we are considering items which\n",
    "        have not been rated by u yet.\n",
    "        \"\"\"\n",
    "        ids = np.where(self.Y_data[:, 0] == u)[0]\n",
    "        items_rated_by_u = self.Y_data[ids, 1].tolist()\n",
    "        recommended_items = []\n",
    "\n",
    "        for i in range(self.n_items):\n",
    "            if i not in items_rated_by_u:\n",
    "                rating = self.__pred(u, i)\n",

    "                if rating > 3:\n",

    "                    recommended_items.append(i)\n",
    "\n",
    "        return recommended_items\n",
    "\n",
    "    def print_recommendation(self):\n",
    "        \"\"\"\n",
    "        print all items which should be recommended for each user\n",
    "        \"\"\"\n",
    "        print('Recommendation: ')\n",
    "        for u in range(self.n_users):\n",
    "            recommended_items = self.recommend(u)\n",
    "            if self.uuCF:\n",
    "                print('Recommend item(s):', recommended_items, 'for user', u)\n",
    "            else:\n",
    "                print('Recommend item', u, 'for user(s) : ', recommended_items)\n",
    "\n",
    "    def print_recommendation2(self ,x):\n",
    "        \"\"\"\n",
    "        print all items which should be recommended for each user\n",
    "        \"\"\"\n",
    "        print('Recommendation: ')\n",
    "        recommended_items = self.recommend(x)\n",
    "        if self.uuCF:\n",
    "            print('Recommend item(s):', recommended_items, 'for user', x)\n",
    "        else:\n",
    "            print('Recommend item', x, 'for user(s) : ', recommended_items)\n"

   ]
  },
  {
   "cell_type": "code",
   "execution_count": 326,
   "metadata": {},
   "outputs": [
    {
     "name": "stdout",
     "output_type": "stream",
     "text": [
      "(10768, 3)\n"
     ]
    }
   ],
   "source": [
    "import pandas as pd\n",
    "import numpy as np\n",
    "from sklearn.model_selection import KFold, train_test_split\n",
    "np.set_printoptions(formatter={'float': \"{:6.11g}\".format})\n",
    "\n",
    "\n",
    "rating = pd.read_csv('../BaseContent/input/ratings_small - Copy.csv')\n",
    "\n",
    "rating = rating.drop(columns='timestamp')\n",
    "rating_train, rating_test = train_test_split(\n",
    "    rating, test_size=0.15, random_state=42)\n",
    "\n",
    "\n",
    "train_set = rating_train.values\n",
    "test_set = rating_test.values\n",
    "\n",
    "\n",
    "print(test_set.shape)\n",
    "# print(rating_train.loc[rating['userId']== 530])\n"

   ]
  },
  {
   "cell_type": "code",

   "execution_count": 300,

   "metadata": {},
   "outputs": [],
   "source": [
    "import joblib\n",
    "\n",
    "def store_model(model, model_name=\"\"):\n",
    "    # NOTE: sklearn.joblib faster than pickle of Python\n",
    "    # INFO: can store only ONE object in a file\n",
    "    if model_name == \"\":\n",
    "        model_name = type(model).__name__\n",
    "    joblib.dump(model, '../Collaberative/model_users/' + model_name + '_model.pkl')\n",
    "\n",
    "\n",
    "def load_model(model_name):\n",
    "    # Load objects into memory\n",
    "    #del model\n",
    "    model = joblib.load('../Collaberative/model_users/' + model_name + '_model.pkl')\n",
    "    # print(model)\n",
    "    return model"
   ]
  },
  {
   "cell_type": "code",

   "execution_count": 328,
   "metadata": {},
   "outputs": [],
   "source": [
    "def evaluate(model,dataset):\n",
    "    dataset = dataset.astype(int)\n",
    "    n_tests = dataset.shape[0]\n",
    "    SE = 0  # squared error\n",
    "    for n in range(n_tests):\n",
    "        pred = model.pred(dataset[n, 0], dataset[n, 1], normalized=0)\n",
    "        SE += (pred - dataset[n, 2])**2\n",
    "    return np.sqrt(SE/n_tests)\n"
   ]
  },
  {
   "cell_type": "code",
   "execution_count": 334,
   "metadata": {},
   "outputs": [
    {
     "name": "stdout",
     "output_type": "stream",
     "text": [
      "Recommendation: \n",
      "Recommend item(s): [] for user 0\n",
      "Recommend item(s): [] for user 1\n",
      "Recommend item(s): [4532] for user 2\n",
      "Recommend item(s): [4532] for user 3\n",
      "Recommend item(s): [] for user 4\n",
      "Recommend item(s): [] for user 5\n",
      "Recommend item(s): [1105, 2483, 4532] for user 6\n",
      "Recommend item(s): [] for user 7\n",
      "Recommend item(s): [] for user 8\n",
      "Recommend item(s): [] for user 9\n",
      "Recommend item(s): [] for user 10\n"
     ]
    },
    {
     "ename": "KeyboardInterrupt",
     "evalue": "",
     "output_type": "error",
     "traceback": [
      "\u001b[1;31m---------------------------------------------------------------------------\u001b[0m",
      "\u001b[1;31mKeyboardInterrupt\u001b[0m                         Traceback (most recent call last)",
      "Cell \u001b[1;32mIn[334], line 6\u001b[0m\n\u001b[0;32m      4\u001b[0m rs_test\u001b[38;5;241m.\u001b[39mfit()\n\u001b[0;32m      5\u001b[0m store_model(rs)\n\u001b[1;32m----> 6\u001b[0m \u001b[43mrs\u001b[49m\u001b[38;5;241;43m.\u001b[39;49m\u001b[43mprint_recommendation\u001b[49m\u001b[43m(\u001b[49m\u001b[43m)\u001b[49m\n\u001b[0;32m      8\u001b[0m \u001b[38;5;28mprint\u001b[39m(\u001b[38;5;124m'\u001b[39m\u001b[38;5;124mUser-user CF train, RMSE =\u001b[39m\u001b[38;5;124m'\u001b[39m, evaluate(rs, train_set))\n\u001b[0;32m      9\u001b[0m \u001b[38;5;28mprint\u001b[39m(\u001b[38;5;124m'\u001b[39m\u001b[38;5;124mUser-user CF test, RMSE =\u001b[39m\u001b[38;5;124m'\u001b[39m, evaluate(rs_test, test_set))\n",
      "Cell \u001b[1;32mIn[333], line 148\u001b[0m, in \u001b[0;36mCF.print_recommendation\u001b[1;34m(self)\u001b[0m\n\u001b[0;32m    146\u001b[0m \u001b[38;5;28mprint\u001b[39m(\u001b[38;5;124m'\u001b[39m\u001b[38;5;124mRecommendation: \u001b[39m\u001b[38;5;124m'\u001b[39m)\n\u001b[0;32m    147\u001b[0m \u001b[38;5;28;01mfor\u001b[39;00m u \u001b[38;5;129;01min\u001b[39;00m \u001b[38;5;28mrange\u001b[39m(\u001b[38;5;28mself\u001b[39m\u001b[38;5;241m.\u001b[39mn_users):\n\u001b[1;32m--> 148\u001b[0m     recommended_items \u001b[38;5;241m=\u001b[39m \u001b[38;5;28;43mself\u001b[39;49m\u001b[38;5;241;43m.\u001b[39;49m\u001b[43mrecommend\u001b[49m\u001b[43m(\u001b[49m\u001b[43mu\u001b[49m\u001b[43m)\u001b[49m\n\u001b[0;32m    149\u001b[0m     \u001b[38;5;28;01mif\u001b[39;00m \u001b[38;5;28mself\u001b[39m\u001b[38;5;241m.\u001b[39muuCF:\n\u001b[0;32m    150\u001b[0m         \u001b[38;5;28mprint\u001b[39m(\u001b[38;5;124m'\u001b[39m\u001b[38;5;124mRecommend item(s):\u001b[39m\u001b[38;5;124m'\u001b[39m, recommended_items, \u001b[38;5;124m'\u001b[39m\u001b[38;5;124mfor user\u001b[39m\u001b[38;5;124m'\u001b[39m, u)\n",
      "Cell \u001b[1;32mIn[333], line 117\u001b[0m, in \u001b[0;36mCF.recommend\u001b[1;34m(self, u)\u001b[0m\n\u001b[0;32m    115\u001b[0m \u001b[38;5;28;01mfor\u001b[39;00m i \u001b[38;5;129;01min\u001b[39;00m \u001b[38;5;28mrange\u001b[39m(\u001b[38;5;28mself\u001b[39m\u001b[38;5;241m.\u001b[39mn_items):\n\u001b[0;32m    116\u001b[0m     \u001b[38;5;28;01mif\u001b[39;00m i \u001b[38;5;129;01mnot\u001b[39;00m \u001b[38;5;129;01min\u001b[39;00m items_rated_by_u:\n\u001b[1;32m--> 117\u001b[0m         rating \u001b[38;5;241m=\u001b[39m \u001b[38;5;28;43mself\u001b[39;49m\u001b[38;5;241;43m.\u001b[39;49m\u001b[43m__pred\u001b[49m\u001b[43m(\u001b[49m\u001b[43mu\u001b[49m\u001b[43m,\u001b[49m\u001b[43m \u001b[49m\u001b[43mi\u001b[49m\u001b[43m)\u001b[49m\n\u001b[0;32m    118\u001b[0m         \u001b[38;5;28;01mif\u001b[39;00m rating \u001b[38;5;241m>\u001b[39m \u001b[38;5;241m3\u001b[39m:\n\u001b[0;32m    119\u001b[0m             recommended_items\u001b[38;5;241m.\u001b[39mappend(i)\n",
      "Cell \u001b[1;32mIn[333], line 78\u001b[0m, in \u001b[0;36mCF.__pred\u001b[1;34m(self, u, i, normalized)\u001b[0m\n\u001b[0;32m     73\u001b[0m \u001b[38;5;124;03m\"\"\"\u001b[39;00m\n\u001b[0;32m     74\u001b[0m \u001b[38;5;124;03mpredict the rating of user u for item i (normalized)\u001b[39;00m\n\u001b[0;32m     75\u001b[0m \u001b[38;5;124;03mif you need the un\u001b[39;00m\n\u001b[0;32m     76\u001b[0m \u001b[38;5;124;03m\"\"\"\u001b[39;00m\n\u001b[0;32m     77\u001b[0m \u001b[38;5;66;03m# Step 1: find all users who rated i\u001b[39;00m\n\u001b[1;32m---> 78\u001b[0m ids \u001b[38;5;241m=\u001b[39m \u001b[43mnp\u001b[49m\u001b[38;5;241;43m.\u001b[39;49m\u001b[43mwhere\u001b[49m\u001b[43m(\u001b[49m\u001b[38;5;28;43mself\u001b[39;49m\u001b[38;5;241;43m.\u001b[39;49m\u001b[43mY_data\u001b[49m\u001b[43m[\u001b[49m\u001b[43m:\u001b[49m\u001b[43m,\u001b[49m\u001b[43m \u001b[49m\u001b[38;5;241;43m1\u001b[39;49m\u001b[43m]\u001b[49m\u001b[43m \u001b[49m\u001b[38;5;241;43m==\u001b[39;49m\u001b[43m \u001b[49m\u001b[43mi\u001b[49m\u001b[43m)\u001b[49m[\u001b[38;5;241m0\u001b[39m]\u001b[38;5;241m.\u001b[39mastype(np\u001b[38;5;241m.\u001b[39mint32)\n\u001b[0;32m     79\u001b[0m \u001b[38;5;66;03m# Step 2:\u001b[39;00m\n\u001b[0;32m     80\u001b[0m users_rated_i \u001b[38;5;241m=\u001b[39m (\u001b[38;5;28mself\u001b[39m\u001b[38;5;241m.\u001b[39mY_data[ids, \u001b[38;5;241m0\u001b[39m])\u001b[38;5;241m.\u001b[39mastype(np\u001b[38;5;241m.\u001b[39mint32)\n",
      "File \u001b[1;32m<__array_function__ internals>:177\u001b[0m, in \u001b[0;36mwhere\u001b[1;34m(*args, **kwargs)\u001b[0m\n",
      "\u001b[1;31mKeyboardInterrupt\u001b[0m: "

     ]
    }
   ],
   "source": [
    "rs = CF(train_set, k=30, uuCF=1)\n",
    "rs.fit()\n",

    "rs_test = CF(test_set, k=30, uuCF=1)\n",
    "rs_test.fit()\n",
    "store_model(rs)\n",
    "rs.print_recommendation()\n",
    "\n",
    "print('User-user CF train, RMSE =', evaluate(rs, train_set))\n",
    "print('User-user CF test, RMSE =', evaluate(rs_test, test_set))\n"

   ]
  },
  {
   "cell_type": "code",

   "execution_count": 316,

   "metadata": {},
   "outputs": [
    {
     "name": "stdout",
     "output_type": "stream",
     "text": [

      "Rated movies ids : [  1196   1556   1064   1485    261   1605    832   1690    802    356\n",
      "    367    804     36   1489    558   1148   1586    838   1573    480\n",
      "   1025   1566   1584    780    260   1183   1606     62   1210   1367\n",
      "   1029    733    673   1416   1073    661   1353    720   1042   1569\n",
      "    239    647    783    991     95    185    158   1032   1580    527\n",
      "     48      1    313   1357     40   1588    595   1721     14    745\n",
      "    608   1223   1033    364]\n",
      "True ratings     : [     5      2      2      2      4      3      5      2      4      5\n",
      "      3      2      5      5      2      5      2      4      5      5\n",
      "      4      5      5      3      5      5      1      4      5      4\n",
      "      4      4      1      4      4      5      3      5      4      4\n",
      "      4      4      5      3      5      3      3      4      5      5\n",
      "      4      5      2      5      3      3      5      5      4      5\n",
      "      5      4      4      5]\n",
      "Predicted ratings: [5.006478519221032, 2.0392900278098662, 2.4010183534428786, 2.8664291425960524, 4.0917976392596955, 2.9248123386951477, 4.356992966309485, 2.7258852280494743, 3.7492732519870096, 4.625969634766495, 3.1344428401820013, 2.339232977897947, 4.593015154137766, 4.932620329030549, 2.4084823900134036, 4.9711130029145085, 2.4874380342223046, 4.048985293739626, 4.291578393202128, 4.462055423962541, 3.9926494782884, 4.394032877814302, 4.458850922178685, 3.4766366997466456, 4.960516279360695, 4.447551724815064, 1.2153451017614203, 4.01606202709758, 4.930322799138802, 3.628272572139686, 3.959139698251908, 4.028303300542368, 2.3068994955001623, 3.9770695434174663, 3.913792711528443, 4.352402600795853, 3.0985974720356295, 4.869770169995821, 3.962532122093351, 3.702217900513562, 3.7930217892995044, 3.9858124060714393, 4.3895898115493095, 3.363648605784971, 3.9649818121143188, 3.1997813324001516, 3.2224548260706527, 3.923295571901484, 4.44519856900831, 4.975823478604904, 3.6498189684513616, 4.4107366844173015, 2.354692795272592, 4.633883058339926, 3.1198412991300373, 3.202310304912164, 4.5592234131476, 4.2374495381268025, 3.988719661168198, 4.934741671553124, 4.791525375283835, 4.505463199631711, 3.8609624676563525, 4.55325914985352]\n"

     ]
    }
   ],
   "source": [

    "np.set_printoptions(formatter={'float':\"{:6.11g}\".format})\n",
    "test = load_model(\"CF\")\n",
    "\n",
    "user = 530\n",
    "users = test.Y_data[:, 0]  # all users - first col of the Y_data\n",
    "ids = np.where(users == user)[0].astype(np.int32)\n",
    "\n",
    "item_ids = test.Y_data[ids, 1]\n",
    "ratings = test.Y_data[ids, 2]\n",
    "predict_ratings = []\n",
    "for n in item_ids:\n",
    "    n = n.astype(int)\n",
    "    tmp = test.pred(user, n, 0)\n",
    "    predict_ratings.append(tmp)\n",
    "\n",
    "print('Rated movies ids :', item_ids)\n",
    "print('True ratings     :', ratings)\n",
    "print('Predicted ratings:', predict_ratings)\n",
    "\n"

   ]
  }
 ],
 "metadata": {
  "kernelspec": {
   "display_name": "Python 3.11.0 ('.env': venv)",
   "language": "python",
   "name": "python3"
  },
  "language_info": {
   "codemirror_mode": {
    "name": "ipython",
    "version": 3
   },
   "file_extension": ".py",
   "mimetype": "text/x-python",
   "name": "python",
   "nbconvert_exporter": "python",
   "pygments_lexer": "ipython3",
   "version": "3.11.0"
  },
  "orig_nbformat": 4,
  "vscode": {
   "interpreter": {
    "hash": "ea52f0f6b1e9b734d3cd0e188ca5984c56df8f37a44c22b2275656db7cfffc8c"
   }
  }
 },
 "nbformat": 4,
 "nbformat_minor": 2
}
